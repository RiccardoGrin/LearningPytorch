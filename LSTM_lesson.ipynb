{
 "cells": [
  {
   "cell_type": "code",
   "execution_count": 3,
   "metadata": {
    "collapsed": true
   },
   "outputs": [],
   "source": [
    "import torch\n",
    "import torch.autograd as autograd\n",
    "import torch.nn as nn\n",
    "import torch.nn.functional as F\n",
    "import torch.optim as optim"
   ]
  },
  {
   "cell_type": "markdown",
   "metadata": {},
   "source": [
    "# From tutorial"
   ]
  },
  {
   "cell_type": "code",
   "execution_count": 11,
   "metadata": {
    "collapsed": true
   },
   "outputs": [
    {
     "name": "stdout",
     "output_type": "stream",
     "text": [
      "[Variable containing:\n",
      " 0.8099 -2.5713  0.0931\n",
      "[torch.FloatTensor of size 1x3]\n",
      ", Variable containing:\n",
      " 1.1526 -1.4169 -0.4190\n",
      "[torch.FloatTensor of size 1x3]\n",
      ", Variable containing:\n",
      " 3.2469 -0.3057  0.0609\n",
      "[torch.FloatTensor of size 1x3]\n",
      ", Variable containing:\n",
      " 0.2798  0.8781 -0.1667\n",
      "[torch.FloatTensor of size 1x3]\n",
      ", Variable containing:\n",
      " 0.4737 -0.3273 -0.1596\n",
      "[torch.FloatTensor of size 1x3]\n",
      "]\n",
      "-------------------\n",
      "(Variable containing:\n",
      "(0 ,.,.) = \n",
      " -0.1523 -1.2305 -1.3961\n",
      "[torch.FloatTensor of size 1x1x3]\n",
      ", Variable containing:\n",
      "(0 ,.,.) = \n",
      " -0.4079  0.2204  0.4656\n",
      "[torch.FloatTensor of size 1x1x3]\n",
      ")\n",
      "-------------------\n",
      "Variable containing:\n",
      "(0 ,.,.) = \n",
      "  0.2997  0.2358 -0.0590\n",
      "[torch.FloatTensor of size 1x1x3]\n",
      "\n",
      "(Variable containing:\n",
      "(0 ,.,.) = \n",
      "  0.2997  0.2358 -0.0590\n",
      "[torch.FloatTensor of size 1x1x3]\n",
      ", Variable containing:\n",
      "(0 ,.,.) = \n",
      "  0.9602  0.4837 -0.2360\n",
      "[torch.FloatTensor of size 1x1x3]\n",
      ")\n"
     ]
    }
   ],
   "source": [
    "lstm = nn.LSTM(3, 3)  # Input dim is 3, output dim is 3\n",
    "inputs = [autograd.Variable(torch.randn((1, 3))) for _ in range(5)]  # make a sequence of length 5\n",
    "print(inputs)\n",
    "print(\"-------------------\")\n",
    "# initialize the hidden state.\n",
    "hidden = (autograd.Variable(torch.randn(1, 1, 3)), autograd.Variable(torch.randn((1, 1, 3))))\n",
    "print(hidden)\n",
    "print(\"-------------------\")\n",
    "for i in inputs:\n",
    "    # Step through the sequence one element at a time.\n",
    "    # after each step, hidden contains the hidden state.\n",
    "    out, hidden = lstm(i.view(1, 1, -1), hidden)\n",
    "print(out)\n",
    "print(hidden)"
   ]
  },
  {
   "cell_type": "code",
   "execution_count": 18,
   "metadata": {},
   "outputs": [
    {
     "name": "stdout",
     "output_type": "stream",
     "text": [
      "Variable containing:\n",
      "(0 ,.,.) = \n",
      "  0.4302 -0.1483 -0.1632\n",
      "\n",
      "(1 ,.,.) = \n",
      "  0.1256  0.2270 -0.2095\n",
      "\n",
      "(2 ,.,.) = \n",
      "  0.3347  0.2485 -0.0918\n",
      "\n",
      "(3 ,.,.) = \n",
      "  0.0378  0.1111 -0.0018\n",
      "\n",
      "(4 ,.,.) = \n",
      "  0.1415  0.4074 -0.1051\n",
      "[torch.FloatTensor of size 5x1x3]\n",
      "\n",
      "---------------------------------------\n",
      "(Variable containing:\n",
      "(0 ,.,.) = \n",
      "  0.1415  0.4074 -0.1051\n",
      "[torch.FloatTensor of size 1x1x3]\n",
      ", Variable containing:\n",
      "(0 ,.,.) = \n",
      "  0.7129  0.5771 -0.2548\n",
      "[torch.FloatTensor of size 1x1x3]\n",
      ")\n"
     ]
    }
   ],
   "source": [
    "inputs = [autograd.Variable(torch.randn((1, 3))) for _ in range(5)]  # make a sequence of length 5\n",
    "inputs = torch.cat(inputs).view(len(inputs), 1, -1)\n",
    "# print(inputs)\n",
    "# print(\"-------------------\")\n",
    "hidden = (autograd.Variable(torch.randn(1, 1, 3)), autograd.Variable(torch.randn((1, 1, 3))))  # clean out hidden state\n",
    "# print(hidden)\n",
    "# print(\"-------------------\")\n",
    "out, hidden = lstm(inputs, hidden)\n",
    "print(out)\n",
    "print(\"---------------------------------------\")\n",
    "print(hidden)"
   ]
  },
  {
   "cell_type": "markdown",
   "metadata": {},
   "source": [
    "# Created version"
   ]
  },
  {
   "cell_type": "code",
   "execution_count": null,
   "metadata": {
    "collapsed": true
   },
   "outputs": [],
   "source": [
    "class LSTMNet(nn.module):\n",
    "    def __init__(self, in_dim, out_dim):\n",
    "        super(LSTMNet, self).__init__()\n",
    "        \n",
    "        self.in_dim = in_dim\n",
    "        self.out_dim = out_dim\n",
    "        \n",
    "        self.lstm = nn.LSTM(in_dim, out_dim)\n",
    "        \n",
    "    def forward():\n",
    "        \n",
    "        return"
   ]
  },
  {
   "cell_type": "code",
   "execution_count": null,
   "metadata": {
    "collapsed": true
   },
   "outputs": [],
   "source": [
    "lstm = LSTMNet()\n",
    "\n",
    "inputs = [autograd.Variable(torch.randn((1, 3))) for _ in range(5)]"
   ]
  }
 ],
 "metadata": {
  "kernelspec": {
   "display_name": "Python 3",
   "language": "python",
   "name": "python3"
  },
  "language_info": {
   "codemirror_mode": {
    "name": "ipython",
    "version": 3
   },
   "file_extension": ".py",
   "mimetype": "text/x-python",
   "name": "python",
   "nbconvert_exporter": "python",
   "pygments_lexer": "ipython3",
   "version": "3.6.3"
  }
 },
 "nbformat": 4,
 "nbformat_minor": 2
}
