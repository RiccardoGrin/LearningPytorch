{
 "cells": [
  {
   "cell_type": "code",
   "execution_count": 121,
   "metadata": {
    "collapsed": true
   },
   "outputs": [],
   "source": [
    "import torch\n",
    "import torch.autograd as autograd\n",
    "import torch.nn as nn\n",
    "import torch.nn.functional as F\n",
    "import torch.optim as optim\n",
    "import torch.nn as nn\n",
    "import numpy as np\n",
    "import random\n",
    "import matplotlib.pyplot as plt\n",
    "from IPython.display import clear_output"
   ]
  },
  {
   "cell_type": "code",
   "execution_count": 2,
   "metadata": {
    "collapsed": true
   },
   "outputs": [],
   "source": [
    "def prepare_sequence(seq, to_ix):\n",
    "    idxs = [to_ix[w] for w in seq]\n",
    "    tensor = torch.LongTensor(idxs)\n",
    "    return autograd.Variable(tensor)\n",
    "\n",
    "\n",
    "def create_dict(training_data):\n",
    "    word_to_ix = {}\n",
    "    for sent in training_data:\n",
    "        for word in sent:\n",
    "            if word not in word_to_ix:\n",
    "                word_to_ix[word] = len(word_to_ix)\n",
    "    ix_to_word = dict([(y, x) for (y, x) in enumerate(word_to_ix)])\n",
    "    return word_to_ix, ix_to_word\n",
    "\n",
    "\n",
    "def create_data(sentences):\n",
    "    training_data = []\n",
    "    for s in sentences:\n",
    "        for i in range(len(s)):\n",
    "            training_data.append(s)\n",
    "            s = np.roll(s,-1).tolist()\n",
    "    return training_data"
   ]
  },
  {
   "cell_type": "code",
   "execution_count": 6,
   "metadata": {
    "collapsed": true
   },
   "outputs": [],
   "source": [
    "class LSTMTagger(nn.Module):\n",
    "\n",
    "    def __init__(self, embedding_dim, hidden_dim, vocab_size):\n",
    "        super(LSTMTagger, self).__init__()\n",
    "        self.hidden_dim = hidden_dim\n",
    "\n",
    "        self.word_embeddings = nn.Embedding(vocab_size, embedding_dim)\n",
    "\n",
    "        # The LSTM takes word embeddings as inputs, and outputs hidden states\n",
    "        # with dimensionality hidden_dim.\n",
    "        self.lstm = nn.LSTM(embedding_dim, hidden_dim)\n",
    "\n",
    "        # The linear layer that maps from hidden state space to tag space\n",
    "        self.hidden2voc = nn.Linear(hidden_dim, vocab_size)\n",
    "        self.hidden = self.init_hidden()\n",
    "\n",
    "    def init_hidden(self):\n",
    "        # Before we've done anything, we dont have any hidden state.\n",
    "        # Refer to the Pytorch documentation to see exactly\n",
    "        # why they have this dimensionality.\n",
    "        # The axes semantics are (num_layers, minibatch_size, hidden_dim)\n",
    "        return (autograd.Variable(torch.zeros(1, 1, self.hidden_dim)),\n",
    "                autograd.Variable(torch.zeros(1, 1, self.hidden_dim)))\n",
    "\n",
    "    def forward(self, sentence):\n",
    "        embeds = self.word_embeddings(sentence)\n",
    "        lstm_out, self.hidden = self.lstm(embeds.view(len(sentence), 1, -1), self.hidden)\n",
    "        voc_space = self.hidden2voc(lstm_out.view(len(sentence), -1))\n",
    "        voc_scores = F.log_softmax(voc_space, dim=1)\n",
    "        return voc_scores"
   ]
  },
  {
   "cell_type": "code",
   "execution_count": 107,
   "metadata": {},
   "outputs": [
    {
     "name": "stdout",
     "output_type": "stream",
     "text": [
      "{'THE': 0, 'DOG': 1, 'ATE': 2, 'APPLE': 3, '.': 4, '\\n': 5, 'DRANK': 6, 'WATER': 7, 'CAT': 8, 'AN': 9, 'MILK': 10, 'LION': 11, 'RAN': 12, 'FAST': 13}\n"
     ]
    }
   ],
   "source": [
    "sentences = [\"The dog ate the apple . \\n\".split(' '), \n",
    "             \"One cat drank milk . \\n\".split(' '),\n",
    "             \"A bird flew up high . \\n\".split(' '),\n",
    "             \"The rat ate the bread . \\n\".split(' '), \n",
    "             \"Two cows drank milk . \\n\".split(' '),\n",
    "             \"A turtle swam up high . \\n\".split(' '),\n",
    "             \"The lion ate a person . \\n\".split(' '), \n",
    "             \"One bat drank blood . \\n\".split(' '),\n",
    "             \"A tiger jumped up high . \\n\".split(' '),\n",
    "             \"The mouse ate the cheese . \\n\".split(' '), \n",
    "             \"Two sheep drank water . \\n\".split(' '),\n",
    "             \"A horse jumped up high . \\n\".split(' '),\n",
    "             \"The car drove fast . \\n\".split(' '),\n",
    "             \"One dog drank the milk . \\n\".split(' '),\n",
    "             \"Two fish swam in water . \\n\".split(' '),\n",
    "             \"The bat ate the apple . \\n\".split(' '),\n",
    "             \"The bird flew fast . \\n\".split(' '),\n",
    "             \"A lion ate the sheep . \\n\".split(' '),]\n",
    "\n",
    "sentences = [\"THE DOG ATE THE APPLE . \\n\".split(' '), \n",
    "             \"THE DOG DRANK THE WATER . \\n\".split(' '),\n",
    "             \"THE CAT ATE AN APPLE . \\n\".split(' '),\n",
    "             \"THE CAT DRANK THE MILK . \\n\".split(' '),\n",
    "             \n",
    "             \"THE LION RAN FAST . \\n\".split(' '),\n",
    "             \"THE LION ATE THE DOG . \\n\".split(' '),\n",
    "             \"THE LION DRANK . \\n\".split(' '),\n",
    "             \"THE DOG RAN . \\n\".split(' ')]\n",
    "\n",
    "training_data = create_data(sentences)\n",
    "word_to_ix, ix_to_word = create_dict(training_data)\n",
    "print(word_to_ix)\n",
    "\n",
    "EMBEDDING_DIM = 2*len(word_to_ix)\n",
    "HIDDEN_DIM = EMBEDDING_DIM*2\n"
   ]
  },
  {
   "cell_type": "code",
   "execution_count": null,
   "metadata": {},
   "outputs": [
    {
     "name": "stdout",
     "output_type": "stream",
     "text": [
      "Epoch...  135 out of 200\n"
     ]
    }
   ],
   "source": [
    "model = LSTMTagger(EMBEDDING_DIM, HIDDEN_DIM, len(word_to_ix))\n",
    "loss_function = nn.NLLLoss()\n",
    "optimizer = optim.SGD(model.parameters(), lr=0.1)\n",
    "\n",
    "EPOCHS = 200\n",
    "loss_save = []\n",
    "for epoch in range(EPOCHS):\n",
    "    if epoch % 5 == 0:\n",
    "        clear_output(wait=True)\n",
    "        print(\"Epoch... \", epoch, \"out of\", EPOCHS)\n",
    "#     training_data = random.sample(training_data, len(training_data))\n",
    "    for sentence in sentences:\n",
    "        tags = np.roll(sentence,-1).tolist()\n",
    "\n",
    "        # Step 1. Remember that Pytorch accumulates gradients.\n",
    "        # We need to clear them out before each instance\n",
    "        model.zero_grad()\n",
    "\n",
    "        # Also, we need to clear out the hidden state of the LSTM,\n",
    "        # detaching it from its history on the last instance.\n",
    "        model.hidden = model.init_hidden()\n",
    "\n",
    "        sentence_in = prepare_sequence(sentence, word_to_ix)\n",
    "        targets = prepare_sequence(tags, word_to_ix)\n",
    "  \n",
    "        tag_scores = model(sentence_in)\n",
    "\n",
    "        loss = loss_function(tag_scores, targets)\n",
    "        loss.backward()\n",
    "        loss_save.append(loss.data)\n",
    "        optimizer.step()"
   ]
  },
  {
   "cell_type": "code",
   "execution_count": 112,
   "metadata": {},
   "outputs": [
    {
     "data": {
      "image/png": "[encoded data removed]",
      "text/plain": [
       "<matplotlib.figure.Figure at 0x7fb0dc0bf080>"
      ]
     },
     "metadata": {},
     "output_type": "display_data"
    }
   ],
   "source": [
    "plt.figure(figsize = [16,4])\n",
    "plt.plot(loss_save, '-', ms=3)\n",
    "plt.show()"
   ]
  },
  {
   "cell_type": "code",
   "execution_count": 119,
   "metadata": {},
   "outputs": [
    {
     "name": "stdout",
     "output_type": "stream",
     "text": [
      "Sam \n",
      " I am Sam \n",
      " I am Sam \n",
      "  \n",
      " That Sam-I-am \n",
      " That Sam-I-am \n",
      "  \n",
      " I do not like \n",
      " Green eggs and ham. \n",
      "  \n",
      " Would you like them \n",
      " Here or there? \n",
      "  \n",
      " I would not like them \n",
      " Here or there. \n",
      " I would not like them \n",
      " Anywhere. \n",
      " I do not like \n",
      " Green eggs and ham. \n",
      "  \n",
      " I do not like them, \n",
      " Sam-I-am. \n",
      "  \n",
      " Would you like them \n",
      " In a house? \n",
      " Would you like them \n",
      " With a mouse? \n",
      "  \n",
      " I do not like them \n",
      " In a house. \n",
      " I do not like them \n",
      " With a mouse. \n",
      " I do not like them \n",
      " Here or there. \n",
      " I do not like them \n",
      " Anywhere. \n",
      " I do not like green eggs and ham. \n",
      " I do not like them, Sam-I-am. \n",
      "  \n",
      " Would you eat them \n",
      " In a box? \n",
      " Would you eat them \n",
      " With a fox? \n",
      "  \n",
      " Not in a box. \n",
      " Not with a fox. \n",
      " Not in a house. \n",
      " Not with a mouse. \n",
      " I would "
     ]
    }
   ],
   "source": [
    "input_word = 'Sam'\n",
    "print(input_word, end=' ')\n",
    "\n",
    "model.hidden = model.init_hidden()\n",
    "\n",
    "for i in range(200):\n",
    "    inputs = prepare_sequence([input_word], word_to_ix)\n",
    "    \n",
    "    tag_scores = model(inputs)\n",
    "    \n",
    "    input_word = ix_to_word[int(tag_scores.max(dim=1)[1])]\n",
    "    print(input_word, end=' ')"
   ]
  },
  {
   "cell_type": "code",
   "execution_count": 110,
   "metadata": {
    "scrolled": true
   },
   "outputs": [
    {
     "name": "stdout",
     "output_type": "stream",
     "text": [
      "{'I': 0, 'am': 1, 'Daniel': 2, '\\n': 3, 'Sam': 4, '': 5, 'That': 6, 'Sam-I-am': 7, 'Sam-I-am!': 8, 'do': 9, 'not': 10, 'like': 11, 'Do': 12, 'you': 13, 'Green': 14, 'eggs': 15, 'and': 16, 'ham': 17, 'them,': 18, 'Sam-I-am.': 19, 'ham.': 20, 'Would': 21, 'them': 22, 'Here': 23, 'or': 24, 'there?': 25, 'would': 26, 'there.': 27, 'Anywhere.': 28, 'In': 29, 'a': 30, 'house?': 31, 'With': 32, 'mouse?': 33, 'house.': 34, 'mouse.': 35, 'green': 36, 'eat': 37, 'box?': 38, 'fox?': 39, 'Not': 40, 'in': 41, 'box.': 42, 'with': 43, 'fox.': 44, 'here': 45, 'anywhere.': 46, 'you?': 47, 'Could': 48, 'car?': 49, 'Eat': 50, 'them!': 51, 'they': 52, 'are.': 53, 'woould': 54, 'not,': 55, 'car': 56, 'You': 57, 'may': 58, 'them.': 59, 'will': 60, 'see.': 61, 'tree?': 62, 'could': 63, 'tree.': 64, 'car!': 65, 'let': 66, 'me': 67, 'be.': 68, 'fox': 69, 'house': 70, 'mot': 71, 'mouse': 72, 'A': 73, 'train!': 74, 'you,': 75, 'On': 76, 'train?': 77, 'on': 78, 'tree!': 79, 'Sam!': 80, 'Let': 81, 'be!': 82, 'Say!': 83, 'the': 84, 'dark?': 85, 'dark!': 86, 'dark.': 87, 'rain?': 88, 'rain.': 89, 'train,': 90, 'car,': 91, 'Sam,': 92, 'anywhere!': 93, 'ham?': 94, 'Like': 95, 'goat?': 96, 'not.': 97, 'goat!': 98, 'boat?': 99, 'boat.': 100, 'goat.': 101, 'train.': 102, 'egss': 103, 'And': 104, 'ham!': 105, 'So': 106, 'say.': 107, 'Try': 108, 'may.': 109, 'If': 110, 'be,': 111, 'try': 112, 'do!': 113, 'boat!': 114, 'goat...': 115, 'car.': 116, 'They': 117, 'are': 118, 'so': 119, 'goodm': 120, 'see!': 121, 'anhywhere!': 122, 'Thank': 123, 'you!': 124}\n"
     ]
    }
   ],
   "source": [
    "sentences = ['I am Daniel \\n I am Sam \\n Sam I am \\n  \\n That Sam-I-am \\n That Sam-I-am! \\n I do not like \\n That Sam-I-am \\n  \\n Do you like \\n Green eggs and ham \\n  \\n I do not like them, \\n Sam-I-am. \\n I do not like \\n Green eggs and ham. \\n  \\n Would you like them \\n Here or there? \\n  \\n I would not like them \\n Here or there. \\n I would not like them \\n Anywhere. \\n I do not like \\n Green eggs and ham. \\n I do not like them, \\n Sam-I-am \\n  \\n Would you like them \\n In a house? \\n Would you like them \\n With a mouse? \\n  \\n I do not like them \\n In a house. \\n I do not like them \\n With a mouse. \\n I do not like them \\n Here or there. \\n I do not like them \\n Anywhere. \\n I do not like green eggs and ham. \\n I do not like them, Sam-I-am. \\n  \\n Would you eat them \\n In a box? \\n Would you eat them \\n With a fox? \\n  \\n Not in a box. \\n Not with a fox. \\n Not in a house. \\n Not with a mouse. \\n I would not eat them here or there. \\n I would not eat them anywhere. \\n I would not eat green eggs and ham. \\n I do not like them, Sam-I-am. \\n  \\n Would you? Could you? \\n In a car? \\n Eat them! Eat them! \\n Here they are. \\n  \\n I woould not, \\n Could not, \\n In a car \\n  \\n You may like them. \\n You will see. \\n You may like them \\n In a tree? \\n  \\n I would not, could not in a tree. \\n Not in a car! You let me be. \\n I do not like them in a box. \\n I do not like them with a fox \\n I do not like them in a house \\n I do mot like them with a mouse \\n I do not like them here or there. \\n I do not like them anywhere. \\n I do not like green eggs and ham. \\n I do not like them, Sam-I-am. \\n  \\n A train! A train! \\n A train! A train! \\n Could you, would you \\n On a train? \\n  \\n Not on a train! Not in a tree! \\n Not in a car! Sam! Let me be! \\n I would not, could not, in a box. \\n I could not, would not, with a fox. \\n I will not eat them with a mouse \\n I will not eat them in a house. \\n I will not eat them here or there. \\n I will not eat them anywhere. \\n I do not like them, Sam-I-am. \\n  \\n Say! \\n In the dark? \\n Here in the dark! \\n Would you, could you, in the dark? \\n  \\n I would not, could not, \\n In the dark. \\n  \\n Would you, could you, \\n In the rain? \\n  \\n I would not, could not, in the rain. \\n Not in the dark. Not on a train, \\n Not in a car, Not in a tree. \\n I do not like them, Sam, you see. \\n Not in a house. Not in a box. \\n Not with a mouse. Not with a fox. \\n I will not eat them here or there. \\n I do not like them anywhere! \\n  \\n You do not like \\n Green eggs and ham? \\n  \\n I do not \\n Like them, \\n Sam-I-am. \\n  \\n Could you, would you, \\n With a goat? \\n  \\n I would not, \\n Could not. \\n With a goat! \\n  \\n Would you, could you, \\n On a boat? \\n  \\n I could not, would not, on a boat. \\n I will not, will not, with a goat. \\n I will not eat them in the rain. \\n I will not eat them on a train. \\n Not in the dark! Not in a tree! \\n Not in a car! You let me be! \\n I do not like them in a box. \\n I do not like them with a fox. \\n I will not eat them in a house. \\n I do not like them with a mouse. \\n I do not like them here or there. \\n I do not like them anywhere! \\n  \\n I do not like \\n Green egss \\n And ham! \\n  \\n I do not like them, \\n Sam-I-am. \\n  \\n You do not like them. \\n So you say. \\n Try them! Try them! \\n And you may. \\n Try them and you may I say. \\n  \\n Sam! \\n If you will let me be, \\n I will try them. \\n You will see. \\n  \\n Say! \\n I like green eggs and ham! \\n I do! I like them, Sam-I-am! \\n And I would eat them in a boat! \\n And I would eat them with a goat... \\n And I will eat them in the rain. \\n And in the dark. And on a train. \\n And in a car. And in a tree. \\n They are so goodm so goodm you see! \\n  \\n So I will eat them in a box. \\n And I will eat them with a fox. \\n And I will eat them in a house. \\n And I will eat them with a mouse. \\n And I will eat them here and there. \\n Say! I will eat them anhywhere! \\n  \\n I do so like \\n Green eggs and ham! \\n Thank you! \\n Thank you, \\n Sam-I-am'.split(' ')]\n",
    "\n",
    "training_data = create_data(sentences)\n",
    "word_to_ix, ix_to_word = create_dict(training_data)\n",
    "print(word_to_ix)\n",
    "\n",
    "EMBEDDING_DIM = 2*len(word_to_ix)\n",
    "HIDDEN_DIM = EMBEDDING_DIM*2"
   ]
  }
 ],
 "metadata": {
  "kernelspec": {
   "display_name": "Python 3",
   "language": "python",
   "name": "python3"
  },
  "language_info": {
   "codemirror_mode": {
    "name": "ipython",
    "version": 3
   },
   "file_extension": ".py",
   "mimetype": "text/x-python",
   "name": "python",
   "nbconvert_exporter": "python",
   "pygments_lexer": "ipython3",
   "version": "3.6.3"
  }
 },
 "nbformat": 4,
 "nbformat_minor": 2
}
